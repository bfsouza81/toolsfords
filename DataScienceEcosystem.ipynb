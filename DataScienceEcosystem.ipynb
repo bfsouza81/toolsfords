{
 "cells": [
  {
   "cell_type": "markdown",
   "id": "3316a41c-7f59-4a92-bdc3-045e40b4a2d9",
   "metadata": {},
   "source": [
    "<center>\n",
    "    <img src=\"https://cf-courses-data.s3.us.cloud-object-storage.appdomain.cloud/IBMDeveloperSkillsNetwork-DS0105EN-SkillsNetwork/labs/Module2/images/SN_web_lightmode.png\" width=\"300\" alt=\"cognitiveclass.ai logo\">\n",
    "</center>"
   ]
  },
  {
   "cell_type": "markdown",
   "id": "4d7eaf22-7ec3-4aa9-98b9-82442b5ef2a0",
   "metadata": {},
   "source": [
    "#### Add your code below following the instructions given in the course"
   ]
  },
  {
   "cell_type": "code",
   "execution_count": null,
   "id": "8c01d8ed-d810-41f5-9a4b-3cd55c51db5c",
   "metadata": {},
   "outputs": [],
   "source": [
    "# Exercise 2: Create markdown cell with title of the notebook\n",
    "# # Data Science Tools and Ecosystem"
   ]
  },
  {
   "cell_type": "markdown",
   "id": "e4ec18ee-8c9c-497f-bc6c-2ee0c234d581",
   "metadata": {},
   "source": [
    "# Data Science Tools and Ecosystem"
   ]
  },
  {
   "cell_type": "code",
   "execution_count": null,
   "id": "2712d310-d6eb-4970-bace-e7753cc02fd2",
   "metadata": {},
   "outputs": [],
   "source": [
    "# Exercise 3 - Create a markdown cell for an introduction\n",
    "# **In this notebook, Data Science Tools and Ecosystem are summarized.**"
   ]
  },
  {
   "cell_type": "markdown",
   "id": "3dfb0b1f-9000-4b15-a72f-a6aa451b3722",
   "metadata": {},
   "source": [
    "**In this notebook, Data Science Tools and Ecosystem are summarized.**"
   ]
  },
  {
   "cell_type": "code",
   "execution_count": null,
   "id": "acda8773-1950-4196-aa98-9dadaabdbc7b",
   "metadata": {},
   "outputs": [],
   "source": [
    "# Exercise 10 - Insert a markdown cell to list Objectives\n",
    "# **Objectives:**\n",
    "# - List popular languages for Data Science\n",
    "# - List some of the commonly libraries used by Data Scientists\n",
    "# - List three development environment open source tools used in data science\n",
    "# - Use a simple arithmetic expression to mutiply then add integers\n",
    "# - Use a simple arithmetic expression to convert 200 minutes into hours"
   ]
  },
  {
   "cell_type": "markdown",
   "id": "8c3bd555-b189-4492-8943-86f032634fec",
   "metadata": {},
   "source": [
    "**Objectives:**\n",
    "- List popular languages for Data Science\n",
    "- List some of the commonly libraries used by Data Scientists\n",
    "- List three development environment open source tools used in data science\n",
    "- Use a simple arithmetic expression to mutiply then add integers\n",
    "- Use a simple arithmetic expression to convert 200 minutes into hours"
   ]
  },
  {
   "cell_type": "code",
   "execution_count": null,
   "id": "00892a34-7eff-45a2-83a7-ce16021f5fa0",
   "metadata": {},
   "outputs": [],
   "source": [
    "# Exercise 4 - Create a markdown cell to list data science languages\n",
    "# Some of the popular languages that Data Scientists use are:\n",
    "# 1. Python\n",
    "# 2. R\n",
    "# 3. SQL\n",
    "# 4. Java\n",
    "# 5. Scala"
   ]
  },
  {
   "cell_type": "markdown",
   "id": "641334cf-2250-45d6-a7d4-56377634c6c0",
   "metadata": {},
   "source": [
    "Some of the popular languages that Data Scientists use are:\n",
    "1. Python\n",
    "2. R\n",
    "3. SQL\n",
    "4. Java\n",
    "5. Scala"
   ]
  },
  {
   "cell_type": "code",
   "execution_count": null,
   "id": "a4a47484-5e83-414c-90ab-bf0036d730e8",
   "metadata": {},
   "outputs": [],
   "source": [
    "# Exercise 5 - Create a markdown cell to list data science libraries\n",
    "# Some of the commonly used libraries used by Data Scientists include:\n",
    "# 1. Pandas\n",
    "# 2. NumPy\n",
    "# 3. Matplotlib\n",
    "# 4. Seaborn\n",
    "# 5. Scikit-learn"
   ]
  },
  {
   "cell_type": "markdown",
   "id": "4bd9e23c-7149-43e9-b24c-7ba8ffddf131",
   "metadata": {},
   "source": [
    "Some of the commonly used libraries used by Data Scientists include:\n",
    "1. Pandas\n",
    "2. NumPy\n",
    "3. Matplotlib\n",
    "4. Seaborn\n",
    "5. Scikit-learn"
   ]
  },
  {
   "cell_type": "code",
   "execution_count": null,
   "id": "b59de650-be68-469f-ac36-928ece9d9987",
   "metadata": {},
   "outputs": [],
   "source": [
    "# Exercise 6 - Create a markdown cell with a table of Data Science tools\n",
    "# | Data Science Tools |\n",
    "# | ------------------ |\n",
    "# | Jupyter |\n",
    "# | RStudio |\n",
    "# | Spyder |"
   ]
  },
  {
   "cell_type": "markdown",
   "id": "7fa4d756-5249-42df-b037-3cb6fadcc8ba",
   "metadata": {},
   "source": [
    "| Data Science Tools |\n",
    "| ------------------ |\n",
    "| Jupyter |\n",
    "| RStudio |\n",
    "| Spyder |"
   ]
  },
  {
   "cell_type": "code",
   "execution_count": null,
   "id": "d8f0255d-9c57-43ed-bc6f-ad00d21cb03d",
   "metadata": {},
   "outputs": [],
   "source": [
    "# Exercise 7 - Create a markdown cell introducing arithmetic expression examples\n",
    "# ### Below are a few examples of evaluating arithmetic expressions in Python"
   ]
  },
  {
   "cell_type": "markdown",
   "id": "9973317c-f8b0-4cc7-86d3-98348fff83cc",
   "metadata": {},
   "source": [
    "### Below are a few examples of evaluating arithmetic expressions in Python"
   ]
  },
  {
   "cell_type": "code",
   "execution_count": null,
   "id": "1af4575e-bef1-4e68-a024-d617f2c49500",
   "metadata": {},
   "outputs": [],
   "source": [
    "# Exercise 8 - Create a code cell to multiply and add numbers\n",
    "# *This a simple arithmetic expression to mutiply then add integers*\n",
    "# (3*4)+5"
   ]
  },
  {
   "cell_type": "markdown",
   "id": "f099caea-3a58-4064-ab07-e63000d2b658",
   "metadata": {},
   "source": [
    "*This a simple arithmetic expression to mutiply then add integers*"
   ]
  },
  {
   "cell_type": "code",
   "execution_count": 34,
   "id": "6aad01a4-428a-4502-9b8a-50273a033ee8",
   "metadata": {},
   "outputs": [
    {
     "data": {
      "text/plain": [
       "17"
      ]
     },
     "execution_count": 34,
     "metadata": {},
     "output_type": "execute_result"
    }
   ],
   "source": [
    "(3*4)+5"
   ]
  },
  {
   "cell_type": "code",
   "execution_count": null,
   "id": "1c837d4b-2973-4b0d-810d-bf3689e8c855",
   "metadata": {},
   "outputs": [],
   "source": [
    "# Exercise 9 - Create a code cell to convert minutes to hours\n",
    "# *This will convert 200 minutes to hours by diving by 60*\n",
    "# 200/60"
   ]
  },
  {
   "cell_type": "markdown",
   "id": "d58f7e81-022f-4c37-b269-d7ab7d44866e",
   "metadata": {},
   "source": [
    "*This will convert 200 minutes to hours by diving by 60*"
   ]
  },
  {
   "cell_type": "code",
   "execution_count": 47,
   "id": "8bb4575a-6244-4f47-a665-ae2f95283938",
   "metadata": {},
   "outputs": [
    {
     "data": {
      "text/plain": [
       "3.3333333333333335"
      ]
     },
     "execution_count": 47,
     "metadata": {},
     "output_type": "execute_result"
    }
   ],
   "source": [
    "200/60"
   ]
  },
  {
   "cell_type": "code",
   "execution_count": null,
   "id": "e9c80c6a-787b-462f-b950-5ab3584f5761",
   "metadata": {},
   "outputs": [],
   "source": [
    "# Exercise 11 - Create a markdown cell to indicate the Author's name\n",
    "# ## Author\n",
    "# Bruno Figueiredo de Souza"
   ]
  },
  {
   "cell_type": "markdown",
   "id": "3dc4b74f-d66d-4383-a6a7-fcf2dcabb968",
   "metadata": {},
   "source": [
    "## Author\n",
    "Bruno Figueiredo de Souza"
   ]
  },
  {
   "cell_type": "code",
   "execution_count": null,
   "id": "0efcb85c-5dab-4113-bf9b-a0d0b9a9eda1",
   "metadata": {},
   "outputs": [],
   "source": []
  }
 ],
 "metadata": {
  "kernelspec": {
   "display_name": "Python 3 (ipykernel)",
   "language": "python",
   "name": "python3"
  },
  "language_info": {
   "codemirror_mode": {
    "name": "ipython",
    "version": 3
   },
   "file_extension": ".py",
   "mimetype": "text/x-python",
   "name": "python",
   "nbconvert_exporter": "python",
   "pygments_lexer": "ipython3",
   "version": "3.12.4"
  }
 },
 "nbformat": 4,
 "nbformat_minor": 5
}
